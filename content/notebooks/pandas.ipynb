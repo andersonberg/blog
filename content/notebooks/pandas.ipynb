{
 "cells": [
  {
   "cell_type": "markdown",
   "metadata": {},
   "source": [
    "Carregar dados de um arquivo excel é bem simples com a função \"read_excel\". Você pode exibir parte da tabela com o \".head()\", que vai mostrar as 5 primeiras linhas:"
   ]
  },
  {
   "cell_type": "code",
   "execution_count": 1,
   "metadata": {},
   "outputs": [
    {
     "data": {
      "text/html": [
       "<div>\n",
       "<style>\n",
       "    .dataframe thead tr:only-child th {\n",
       "        text-align: right;\n",
       "    }\n",
       "\n",
       "    .dataframe thead th {\n",
       "        text-align: left;\n",
       "    }\n",
       "\n",
       "    .dataframe tbody tr th {\n",
       "        vertical-align: top;\n",
       "    }\n",
       "</style>\n",
       "<table border=\"1\" class=\"dataframe\">\n",
       "  <thead>\n",
       "    <tr style=\"text-align: right;\">\n",
       "      <th></th>\n",
       "      <th>Código do município</th>\n",
       "      <th>Nome do município</th>\n",
       "      <th>Total da população 2000</th>\n",
       "      <th>Total de homens</th>\n",
       "      <th>Total de mulheres</th>\n",
       "      <th>Total da população urbana</th>\n",
       "      <th>Total da população rural</th>\n",
       "      <th>Total da população 2010</th>\n",
       "    </tr>\n",
       "  </thead>\n",
       "  <tbody>\n",
       "    <tr>\n",
       "      <th>0</th>\n",
       "      <td>2600054</td>\n",
       "      <td>Abreu e Lima</td>\n",
       "      <td>89039.0</td>\n",
       "      <td>45165.0</td>\n",
       "      <td>49263.0</td>\n",
       "      <td>86589.0</td>\n",
       "      <td>7839.0</td>\n",
       "      <td>94428.0</td>\n",
       "    </tr>\n",
       "    <tr>\n",
       "      <th>1</th>\n",
       "      <td>2600104</td>\n",
       "      <td>Afogados da Ingazeira</td>\n",
       "      <td>32922.0</td>\n",
       "      <td>16790.0</td>\n",
       "      <td>18301.0</td>\n",
       "      <td>27406.0</td>\n",
       "      <td>7685.0</td>\n",
       "      <td>35091.0</td>\n",
       "    </tr>\n",
       "    <tr>\n",
       "      <th>2</th>\n",
       "      <td>2600203</td>\n",
       "      <td>Afrânio</td>\n",
       "      <td>15014.0</td>\n",
       "      <td>8751.0</td>\n",
       "      <td>8837.0</td>\n",
       "      <td>5859.0</td>\n",
       "      <td>11729.0</td>\n",
       "      <td>17588.0</td>\n",
       "    </tr>\n",
       "    <tr>\n",
       "      <th>3</th>\n",
       "      <td>2600302</td>\n",
       "      <td>Agrestina</td>\n",
       "      <td>20036.0</td>\n",
       "      <td>10938.0</td>\n",
       "      <td>11742.0</td>\n",
       "      <td>16955.0</td>\n",
       "      <td>5725.0</td>\n",
       "      <td>22680.0</td>\n",
       "    </tr>\n",
       "    <tr>\n",
       "      <th>4</th>\n",
       "      <td>2600401</td>\n",
       "      <td>Água Preta</td>\n",
       "      <td>28531.0</td>\n",
       "      <td>16581.0</td>\n",
       "      <td>16465.0</td>\n",
       "      <td>18708.0</td>\n",
       "      <td>14338.0</td>\n",
       "      <td>33046.0</td>\n",
       "    </tr>\n",
       "  </tbody>\n",
       "</table>\n",
       "</div>"
      ],
      "text/plain": [
       "  Código do município      Nome do município  Total da população 2000  \\\n",
       "0             2600054           Abreu e Lima                  89039.0   \n",
       "1             2600104  Afogados da Ingazeira                  32922.0   \n",
       "2             2600203                Afrânio                  15014.0   \n",
       "3             2600302              Agrestina                  20036.0   \n",
       "4             2600401             Água Preta                  28531.0   \n",
       "\n",
       "   Total de homens  Total de mulheres  Total da população urbana  \\\n",
       "0          45165.0            49263.0                    86589.0   \n",
       "1          16790.0            18301.0                    27406.0   \n",
       "2           8751.0             8837.0                     5859.0   \n",
       "3          10938.0            11742.0                    16955.0   \n",
       "4          16581.0            16465.0                    18708.0   \n",
       "\n",
       "   Total da população rural  Total da população 2010  \n",
       "0                    7839.0                  94428.0  \n",
       "1                    7685.0                  35091.0  \n",
       "2                   11729.0                  17588.0  \n",
       "3                    5725.0                  22680.0  \n",
       "4                   14338.0                  33046.0  "
      ]
     },
     "execution_count": 1,
     "metadata": {},
     "output_type": "execute_result"
    }
   ],
   "source": [
    "import pandas as pd\n",
    "df_pop = pd.read_excel(\"total_populacao_pernambuco.xls\")\n",
    "df_pop.head()"
   ]
  },
  {
   "cell_type": "markdown",
   "metadata": {
    "collapsed": true
   },
   "source": [
    "No exemplo, \"df_pop\" é uma estrutura de dados chamada DataFrame. O DataFrame tem duas dimensões e transforma os dados em uma tabela. Cada linha ou coluna de um DataFrame possui outra estrutura do pandas chamado de Series, que nada mais é do que um array unidimensional."
   ]
  },
  {
   "cell_type": "markdown",
   "metadata": {},
   "source": [
    "Suponha agora que você quer remover algumas colunas desnecessárias para melhorar a visualização e facilitar a manipulação dos dados. Trabalho simples de ser feito no pandas:"
   ]
  },
  {
   "cell_type": "code",
   "execution_count": 2,
   "metadata": {
    "collapsed": true
   },
   "outputs": [],
   "source": [
    "df_pop = df_pop.drop('Código do município', axis=1)"
   ]
  },
  {
   "cell_type": "markdown",
   "metadata": {},
   "source": [
    "Para remover várias colunas ao mesmo tempo, é um pouco diferente:"
   ]
  },
  {
   "cell_type": "code",
   "execution_count": 3,
   "metadata": {},
   "outputs": [
    {
     "data": {
      "text/html": [
       "<div>\n",
       "<style>\n",
       "    .dataframe thead tr:only-child th {\n",
       "        text-align: right;\n",
       "    }\n",
       "\n",
       "    .dataframe thead th {\n",
       "        text-align: left;\n",
       "    }\n",
       "\n",
       "    .dataframe tbody tr th {\n",
       "        vertical-align: top;\n",
       "    }\n",
       "</style>\n",
       "<table border=\"1\" class=\"dataframe\">\n",
       "  <thead>\n",
       "    <tr style=\"text-align: right;\">\n",
       "      <th></th>\n",
       "      <th>Nome do município</th>\n",
       "      <th>Total da população 2000</th>\n",
       "      <th>Total da população 2010</th>\n",
       "    </tr>\n",
       "  </thead>\n",
       "  <tbody>\n",
       "    <tr>\n",
       "      <th>0</th>\n",
       "      <td>Abreu e Lima</td>\n",
       "      <td>89039.0</td>\n",
       "      <td>94428.0</td>\n",
       "    </tr>\n",
       "    <tr>\n",
       "      <th>1</th>\n",
       "      <td>Afogados da Ingazeira</td>\n",
       "      <td>32922.0</td>\n",
       "      <td>35091.0</td>\n",
       "    </tr>\n",
       "    <tr>\n",
       "      <th>2</th>\n",
       "      <td>Afrânio</td>\n",
       "      <td>15014.0</td>\n",
       "      <td>17588.0</td>\n",
       "    </tr>\n",
       "    <tr>\n",
       "      <th>3</th>\n",
       "      <td>Agrestina</td>\n",
       "      <td>20036.0</td>\n",
       "      <td>22680.0</td>\n",
       "    </tr>\n",
       "    <tr>\n",
       "      <th>4</th>\n",
       "      <td>Água Preta</td>\n",
       "      <td>28531.0</td>\n",
       "      <td>33046.0</td>\n",
       "    </tr>\n",
       "  </tbody>\n",
       "</table>\n",
       "</div>"
      ],
      "text/plain": [
       "       Nome do município  Total da população 2000  Total da população 2010\n",
       "0           Abreu e Lima                  89039.0                  94428.0\n",
       "1  Afogados da Ingazeira                  32922.0                  35091.0\n",
       "2                Afrânio                  15014.0                  17588.0\n",
       "3              Agrestina                  20036.0                  22680.0\n",
       "4             Água Preta                  28531.0                  33046.0"
      ]
     },
     "execution_count": 3,
     "metadata": {},
     "output_type": "execute_result"
    }
   ],
   "source": [
    "df_pop = df_pop.drop(df_pop.columns[[2, 3, 4, 5]], axis=1)\n",
    "df_pop.head()"
   ]
  },
  {
   "cell_type": "markdown",
   "metadata": {},
   "source": [
    "A função \"drop\" retorna um novo DataFrame sem as colunar especificadas, por isso temos que atribuir novamente ao DataFrame original. Para evitar isso, você pode utilizar o atributo \"inplace\"."
   ]
  },
  {
   "cell_type": "markdown",
   "metadata": {},
   "source": [
    "Vamos renomear algumas colunas e utilizar o inplace para modificar diretamente o DataFrame original:"
   ]
  },
  {
   "cell_type": "code",
   "execution_count": 4,
   "metadata": {},
   "outputs": [
    {
     "data": {
      "text/html": [
       "<div>\n",
       "<style>\n",
       "    .dataframe thead tr:only-child th {\n",
       "        text-align: right;\n",
       "    }\n",
       "\n",
       "    .dataframe thead th {\n",
       "        text-align: left;\n",
       "    }\n",
       "\n",
       "    .dataframe tbody tr th {\n",
       "        vertical-align: top;\n",
       "    }\n",
       "</style>\n",
       "<table border=\"1\" class=\"dataframe\">\n",
       "  <thead>\n",
       "    <tr style=\"text-align: right;\">\n",
       "      <th></th>\n",
       "      <th>Nome do município</th>\n",
       "      <th>Total 2000</th>\n",
       "      <th>Total 2010</th>\n",
       "    </tr>\n",
       "  </thead>\n",
       "  <tbody>\n",
       "    <tr>\n",
       "      <th>0</th>\n",
       "      <td>Abreu e Lima</td>\n",
       "      <td>89039.0</td>\n",
       "      <td>94428.0</td>\n",
       "    </tr>\n",
       "    <tr>\n",
       "      <th>1</th>\n",
       "      <td>Afogados da Ingazeira</td>\n",
       "      <td>32922.0</td>\n",
       "      <td>35091.0</td>\n",
       "    </tr>\n",
       "    <tr>\n",
       "      <th>2</th>\n",
       "      <td>Afrânio</td>\n",
       "      <td>15014.0</td>\n",
       "      <td>17588.0</td>\n",
       "    </tr>\n",
       "    <tr>\n",
       "      <th>3</th>\n",
       "      <td>Agrestina</td>\n",
       "      <td>20036.0</td>\n",
       "      <td>22680.0</td>\n",
       "    </tr>\n",
       "    <tr>\n",
       "      <th>4</th>\n",
       "      <td>Água Preta</td>\n",
       "      <td>28531.0</td>\n",
       "      <td>33046.0</td>\n",
       "    </tr>\n",
       "  </tbody>\n",
       "</table>\n",
       "</div>"
      ],
      "text/plain": [
       "       Nome do município  Total 2000  Total 2010\n",
       "0           Abreu e Lima     89039.0     94428.0\n",
       "1  Afogados da Ingazeira     32922.0     35091.0\n",
       "2                Afrânio     15014.0     17588.0\n",
       "3              Agrestina     20036.0     22680.0\n",
       "4             Água Preta     28531.0     33046.0"
      ]
     },
     "execution_count": 4,
     "metadata": {},
     "output_type": "execute_result"
    }
   ],
   "source": [
    "df_pop.rename(columns={\"Total da população 2000\": \"Total 2000\", \"Total da população 2010\": \"Total 2010\"}, inplace=True)\n",
    "df_pop.head()"
   ]
  },
  {
   "cell_type": "markdown",
   "metadata": {
    "collapsed": true
   },
   "source": [
    "Dá uma olhada agora no final da tabela, tem alguns valores vazios ali"
   ]
  },
  {
   "cell_type": "code",
   "execution_count": 5,
   "metadata": {},
   "outputs": [
    {
     "data": {
      "text/html": [
       "<div>\n",
       "<style>\n",
       "    .dataframe thead tr:only-child th {\n",
       "        text-align: right;\n",
       "    }\n",
       "\n",
       "    .dataframe thead th {\n",
       "        text-align: left;\n",
       "    }\n",
       "\n",
       "    .dataframe tbody tr th {\n",
       "        vertical-align: top;\n",
       "    }\n",
       "</style>\n",
       "<table border=\"1\" class=\"dataframe\">\n",
       "  <thead>\n",
       "    <tr style=\"text-align: right;\">\n",
       "      <th></th>\n",
       "      <th>Nome do município</th>\n",
       "      <th>Total 2000</th>\n",
       "      <th>Total 2010</th>\n",
       "    </tr>\n",
       "  </thead>\n",
       "  <tbody>\n",
       "    <tr>\n",
       "      <th>182</th>\n",
       "      <td>Vicência</td>\n",
       "      <td>28820.0</td>\n",
       "      <td>30731.0</td>\n",
       "    </tr>\n",
       "    <tr>\n",
       "      <th>183</th>\n",
       "      <td>Vitória de Santo Antão</td>\n",
       "      <td>117609.0</td>\n",
       "      <td>130540.0</td>\n",
       "    </tr>\n",
       "    <tr>\n",
       "      <th>184</th>\n",
       "      <td>Xexéu</td>\n",
       "      <td>13597.0</td>\n",
       "      <td>14092.0</td>\n",
       "    </tr>\n",
       "    <tr>\n",
       "      <th>185</th>\n",
       "      <td>Pernambuco</td>\n",
       "      <td>7918344.0</td>\n",
       "      <td>8796032.0</td>\n",
       "    </tr>\n",
       "    <tr>\n",
       "      <th>186</th>\n",
       "      <td>NaN</td>\n",
       "      <td>NaN</td>\n",
       "      <td>NaN</td>\n",
       "    </tr>\n",
       "  </tbody>\n",
       "</table>\n",
       "</div>"
      ],
      "text/plain": [
       "          Nome do município  Total 2000  Total 2010\n",
       "182                Vicência     28820.0     30731.0\n",
       "183  Vitória de Santo Antão    117609.0    130540.0\n",
       "184                   Xexéu     13597.0     14092.0\n",
       "185              Pernambuco   7918344.0   8796032.0\n",
       "186                     NaN         NaN         NaN"
      ]
     },
     "execution_count": 5,
     "metadata": {},
     "output_type": "execute_result"
    }
   ],
   "source": [
    "df_pop.tail()"
   ]
  },
  {
   "cell_type": "markdown",
   "metadata": {},
   "source": [
    "Problema simples de resolver com o pandas. Você tem duas opções aqui:\n",
    "1. Preencher com um valor padrão\n",
    "2. Remover as células vazias"
   ]
  },
  {
   "cell_type": "markdown",
   "metadata": {
    "collapsed": true
   },
   "source": [
    "Se tudo que você precisa é preencher as lacunas, use a função \"fillna\":"
   ]
  },
  {
   "cell_type": "code",
   "execution_count": 6,
   "metadata": {},
   "outputs": [
    {
     "data": {
      "text/html": [
       "<div>\n",
       "<style>\n",
       "    .dataframe thead tr:only-child th {\n",
       "        text-align: right;\n",
       "    }\n",
       "\n",
       "    .dataframe thead th {\n",
       "        text-align: left;\n",
       "    }\n",
       "\n",
       "    .dataframe tbody tr th {\n",
       "        vertical-align: top;\n",
       "    }\n",
       "</style>\n",
       "<table border=\"1\" class=\"dataframe\">\n",
       "  <thead>\n",
       "    <tr style=\"text-align: right;\">\n",
       "      <th></th>\n",
       "      <th>Nome do município</th>\n",
       "      <th>Total 2000</th>\n",
       "      <th>Total 2010</th>\n",
       "    </tr>\n",
       "  </thead>\n",
       "  <tbody>\n",
       "    <tr>\n",
       "      <th>182</th>\n",
       "      <td>Vicência</td>\n",
       "      <td>28820.0</td>\n",
       "      <td>30731.0</td>\n",
       "    </tr>\n",
       "    <tr>\n",
       "      <th>183</th>\n",
       "      <td>Vitória de Santo Antão</td>\n",
       "      <td>117609.0</td>\n",
       "      <td>130540.0</td>\n",
       "    </tr>\n",
       "    <tr>\n",
       "      <th>184</th>\n",
       "      <td>Xexéu</td>\n",
       "      <td>13597.0</td>\n",
       "      <td>14092.0</td>\n",
       "    </tr>\n",
       "    <tr>\n",
       "      <th>185</th>\n",
       "      <td>Pernambuco</td>\n",
       "      <td>7918344.0</td>\n",
       "      <td>8796032.0</td>\n",
       "    </tr>\n",
       "    <tr>\n",
       "      <th>186</th>\n",
       "      <td>0</td>\n",
       "      <td>0.0</td>\n",
       "      <td>0.0</td>\n",
       "    </tr>\n",
       "  </tbody>\n",
       "</table>\n",
       "</div>"
      ],
      "text/plain": [
       "          Nome do município  Total 2000  Total 2010\n",
       "182                Vicência     28820.0     30731.0\n",
       "183  Vitória de Santo Antão    117609.0    130540.0\n",
       "184                   Xexéu     13597.0     14092.0\n",
       "185              Pernambuco   7918344.0   8796032.0\n",
       "186                       0         0.0         0.0"
      ]
     },
     "execution_count": 6,
     "metadata": {},
     "output_type": "execute_result"
    }
   ],
   "source": [
    "filled_df = df_pop.fillna(axis=0, value=0)\n",
    "filled_df.tail()"
   ]
  },
  {
   "cell_type": "markdown",
   "metadata": {},
   "source": [
    "Por outro lado, se a melhor decisão é remover essa linha:"
   ]
  },
  {
   "cell_type": "code",
   "execution_count": 7,
   "metadata": {},
   "outputs": [
    {
     "data": {
      "text/html": [
       "<div>\n",
       "<style>\n",
       "    .dataframe thead tr:only-child th {\n",
       "        text-align: right;\n",
       "    }\n",
       "\n",
       "    .dataframe thead th {\n",
       "        text-align: left;\n",
       "    }\n",
       "\n",
       "    .dataframe tbody tr th {\n",
       "        vertical-align: top;\n",
       "    }\n",
       "</style>\n",
       "<table border=\"1\" class=\"dataframe\">\n",
       "  <thead>\n",
       "    <tr style=\"text-align: right;\">\n",
       "      <th></th>\n",
       "      <th>Nome do município</th>\n",
       "      <th>Total 2000</th>\n",
       "      <th>Total 2010</th>\n",
       "    </tr>\n",
       "  </thead>\n",
       "  <tbody>\n",
       "    <tr>\n",
       "      <th>181</th>\n",
       "      <td>Vertentes</td>\n",
       "      <td>14957.0</td>\n",
       "      <td>18267.0</td>\n",
       "    </tr>\n",
       "    <tr>\n",
       "      <th>182</th>\n",
       "      <td>Vicência</td>\n",
       "      <td>28820.0</td>\n",
       "      <td>30731.0</td>\n",
       "    </tr>\n",
       "    <tr>\n",
       "      <th>183</th>\n",
       "      <td>Vitória de Santo Antão</td>\n",
       "      <td>117609.0</td>\n",
       "      <td>130540.0</td>\n",
       "    </tr>\n",
       "    <tr>\n",
       "      <th>184</th>\n",
       "      <td>Xexéu</td>\n",
       "      <td>13597.0</td>\n",
       "      <td>14092.0</td>\n",
       "    </tr>\n",
       "    <tr>\n",
       "      <th>185</th>\n",
       "      <td>Pernambuco</td>\n",
       "      <td>7918344.0</td>\n",
       "      <td>8796032.0</td>\n",
       "    </tr>\n",
       "  </tbody>\n",
       "</table>\n",
       "</div>"
      ],
      "text/plain": [
       "          Nome do município  Total 2000  Total 2010\n",
       "181               Vertentes     14957.0     18267.0\n",
       "182                Vicência     28820.0     30731.0\n",
       "183  Vitória de Santo Antão    117609.0    130540.0\n",
       "184                   Xexéu     13597.0     14092.0\n",
       "185              Pernambuco   7918344.0   8796032.0"
      ]
     },
     "execution_count": 7,
     "metadata": {},
     "output_type": "execute_result"
    }
   ],
   "source": [
    "df_pop.dropna(axis=0, how='all', inplace=True)\n",
    "df_pop.tail()"
   ]
  },
  {
   "cell_type": "markdown",
   "metadata": {},
   "source": [
    "Uma última função que eu queria comentar neste post é a função map. Ela é bem útil se você precisa modificar todos os elementos de uma linha ou coluna. No nosso exemplo podemos converter todos os números de float para int:"
   ]
  },
  {
   "cell_type": "code",
   "execution_count": 8,
   "metadata": {},
   "outputs": [
    {
     "data": {
      "text/html": [
       "<div>\n",
       "<style>\n",
       "    .dataframe thead tr:only-child th {\n",
       "        text-align: right;\n",
       "    }\n",
       "\n",
       "    .dataframe thead th {\n",
       "        text-align: left;\n",
       "    }\n",
       "\n",
       "    .dataframe tbody tr th {\n",
       "        vertical-align: top;\n",
       "    }\n",
       "</style>\n",
       "<table border=\"1\" class=\"dataframe\">\n",
       "  <thead>\n",
       "    <tr style=\"text-align: right;\">\n",
       "      <th></th>\n",
       "      <th>Nome do município</th>\n",
       "      <th>Total 2000</th>\n",
       "      <th>Total 2010</th>\n",
       "    </tr>\n",
       "  </thead>\n",
       "  <tbody>\n",
       "    <tr>\n",
       "      <th>0</th>\n",
       "      <td>Abreu e Lima</td>\n",
       "      <td>89039</td>\n",
       "      <td>94428</td>\n",
       "    </tr>\n",
       "    <tr>\n",
       "      <th>1</th>\n",
       "      <td>Afogados da Ingazeira</td>\n",
       "      <td>32922</td>\n",
       "      <td>35091</td>\n",
       "    </tr>\n",
       "    <tr>\n",
       "      <th>2</th>\n",
       "      <td>Afrânio</td>\n",
       "      <td>15014</td>\n",
       "      <td>17588</td>\n",
       "    </tr>\n",
       "    <tr>\n",
       "      <th>3</th>\n",
       "      <td>Agrestina</td>\n",
       "      <td>20036</td>\n",
       "      <td>22680</td>\n",
       "    </tr>\n",
       "    <tr>\n",
       "      <th>4</th>\n",
       "      <td>Água Preta</td>\n",
       "      <td>28531</td>\n",
       "      <td>33046</td>\n",
       "    </tr>\n",
       "  </tbody>\n",
       "</table>\n",
       "</div>"
      ],
      "text/plain": [
       "       Nome do município  Total 2000  Total 2010\n",
       "0           Abreu e Lima       89039       94428\n",
       "1  Afogados da Ingazeira       32922       35091\n",
       "2                Afrânio       15014       17588\n",
       "3              Agrestina       20036       22680\n",
       "4             Água Preta       28531       33046"
      ]
     },
     "execution_count": 8,
     "metadata": {},
     "output_type": "execute_result"
    }
   ],
   "source": [
    "df_pop[\"Total 2000\"] = df_pop[\"Total 2000\"].map(lambda x: int(x))\n",
    "df_pop[\"Total 2010\"] = df_pop[\"Total 2010\"].map(lambda x: int(x))\n",
    "df_pop.head()"
   ]
  },
  {
   "cell_type": "markdown",
   "metadata": {},
   "source": [
    "Basicamente, a função map recebe como parâmetro outra função que será mapeada para os elementos de uma coluna ou linha."
   ]
  },
  {
   "cell_type": "markdown",
   "metadata": {},
   "source": [
    "Queria ser breve neste post, mostrando algumas operações básicas que podem ser feitas com o pandas. Em um próximo post vou trazer mais alguns detalhes sobre o pandas e como fazer operações mais avançadas com análise de dados."
   ]
  }
 ],
 "metadata": {
  "kernelspec": {
   "display_name": "Python 3",
   "language": "python",
   "name": "python3"
  },
  "language_info": {
   "codemirror_mode": {
    "name": "ipython",
    "version": 3
   },
   "file_extension": ".py",
   "mimetype": "text/x-python",
   "name": "python",
   "nbconvert_exporter": "python",
   "pygments_lexer": "ipython3",
   "version": "3.5.2"
  }
 },
 "nbformat": 4,
 "nbformat_minor": 2
}
